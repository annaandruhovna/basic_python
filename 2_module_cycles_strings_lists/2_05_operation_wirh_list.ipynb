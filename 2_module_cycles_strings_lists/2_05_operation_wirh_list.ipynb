{
 "cells": [
  {
   "cell_type": "code",
   "execution_count": null,
   "id": "c03e7f65-b18b-4afd-8f7d-42d2b8e66e23",
   "metadata": {},
   "outputs": [
    {
     "name": "stdout",
     "output_type": "stream",
     "text": [
      "['Ivan', 'Masha', 'Sasha', 'Olga', 'O', 'l', 'g', 'a']\n"
     ]
    }
   ],
   "source": [
    "#количество элементов в листе\n",
    "#Сколько элементов будет содержать список students после следующих операций?\n",
    "students = ['Ivan', 'Masha', 'Sasha']\n",
    "students += ['Olga']\n",
    "students += 'Olga'\n",
    "print(students)"
   ]
  },
  {
   "cell_type": "code",
   "execution_count": null,
   "id": "3aab022f-bf0d-4acf-a309-72b1e2365694",
   "metadata": {},
   "outputs": [
    {
     "name": "stdout",
     "output_type": "stream",
     "text": [
      "[1, 2, 3]\n",
      "[1, 10, 3]\n",
      "[20, 10, 3]\n",
      "[20, 10, 3]\n"
     ]
    }
   ],
   "source": [
    "#Изменение списков, ссылающихся на один объект\n",
    "#Укажите, какие значения будут содержать списки в помеченных участках:\n",
    "a = [1,2,3]\n",
    "b = a\n",
    "print(b)\n",
    "a[1] = 10\n",
    "print(b)\n",
    "b[0] = 20\n",
    "print(a)\n",
    "a = [5,6]\n",
    "print(b)"
   ]
  },
  {
   "cell_type": "code",
   "execution_count": null,
   "id": "0eb70c26-5614-445e-b5c8-3b922885a76f",
   "metadata": {},
   "outputs": [
    {
     "name": "stdout",
     "output_type": "stream",
     "text": [
      " 4  -1 9 3\n"
     ]
    },
    {
     "name": "stdout",
     "output_type": "stream",
     "text": [
      "15\n"
     ]
    }
   ],
   "source": [
    "#Сумма чисел в листе, введенных с консоли \n",
    "#Напишите программу, на вход которой подается одна строка с целыми числами. Программа должна вывести сумму этих чисел.\n",
    "a = [int(i) for i in input().split()]\n",
    "print(sum(a))"
   ]
  },
  {
   "cell_type": "code",
   "execution_count": null,
   "id": "ca9313ab-08ee-4a84-b014-47c35f147f22",
   "metadata": {},
   "outputs": [
    {
     "name": "stdout",
     "output_type": "stream",
     "text": [
      " 5 6 7\n"
     ]
    },
    {
     "name": "stdout",
     "output_type": "stream",
     "text": [
      "13 12 11\n"
     ]
    }
   ],
   "source": [
    "#Вывод сумм соседних элементов для списка\n",
    "#Напишите программу, на вход которой подаётся список чисел одной строкой. \n",
    "# Программа должна для каждого элемента этого списка вывести сумму двух его соседей.\n",
    "#  Для элементов списка, являющихся крайними, одним из соседей считается элемент, находящий на противоположном конце этого списка. Например, если на вход подаётся список \"1 3 5 6 10\", то на выход ожидается список \"13 6 9 15 7\" (без кавычек).\n",
    "#Если на вход пришло только одно число, надо вывести его же.\n",
    "a = [int(i) for i in input().split()]\n",
    "n = len(a)\n",
    "if n == 1:\n",
    "    print(a[0])\n",
    "else:\n",
    "    b = []\n",
    "    for i in range(n):\n",
    "        if i == 0:\n",
    "            c = a[n-1]+a[i+1]\n",
    "        elif i == n-1:\n",
    "            c = a[i-1]+a[0]\n",
    "        else:\n",
    "            c = a[i-1]+a[i+1]\n",
    "        b.append(c)\n",
    "    print(*b)"
   ]
  },
  {
   "cell_type": "code",
   "execution_count": null,
   "id": "c09cca33-1019-4b06-8959-5cc4d62dadea",
   "metadata": {},
   "outputs": [
    {
     "name": "stdout",
     "output_type": "stream",
     "text": [
      " 3 4 5 6 3 2\n"
     ]
    },
    {
     "name": "stdout",
     "output_type": "stream",
     "text": [
      "3\n"
     ]
    }
   ],
   "source": [
    "#Найти значения, встречающиеся в листе более одного раза\n",
    "#Напишите программу, которая принимает на вход список чисел в одной строке \n",
    "# и выводит на экран в одну строку значения, которые встречаются в нём более одного раза.\n",
    "a = [int(i) for i in input().split()]\n",
    "a.sort()\n",
    "pred = ''\n",
    "count = 0\n",
    "b = []\n",
    "n = len(a)\n",
    "for i in range(n):\n",
    "    if a[i] == pred:\n",
    "        count += 1\n",
    "    else:\n",
    "        if count > 1:\n",
    "            b.append(pred)\n",
    "        count = 1\n",
    "        pred = a[i]\n",
    "    if (i == n-1) and (count > 1):\n",
    "        b.append(pred)\n",
    "print(*b)"
   ]
  },
  {
   "cell_type": "code",
   "execution_count": null,
   "id": "340f4c2e-094b-41ac-b86e-ce9a488bd4be",
   "metadata": {},
   "outputs": [],
   "source": []
  }
 ],
 "metadata": {
  "kernelspec": {
   "display_name": "Python 3 (ipykernel)",
   "language": "python",
   "name": "python3"
  },
  "language_info": {
   "codemirror_mode": {
    "name": "ipython",
    "version": 3
   },
   "file_extension": ".py",
   "mimetype": "text/x-python",
   "name": "python",
   "nbconvert_exporter": "python",
   "pygments_lexer": "ipython3",
   "version": "3.12.4"
  }
 },
 "nbformat": 4,
 "nbformat_minor": 5
}
