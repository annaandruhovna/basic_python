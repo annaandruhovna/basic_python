{
 "cells": [
  {
   "cell_type": "code",
   "execution_count": 1,
   "id": "c48816be-1402-4655-b485-b489650f2119",
   "metadata": {},
   "outputs": [],
   "source": [
    "def f(n):\n",
    "    return n * 10 + 5"
   ]
  },
  {
   "cell_type": "code",
   "execution_count": 2,
   "id": "a45c2597-5bd6-4a39-af0d-8c304e5b817e",
   "metadata": {},
   "outputs": [
    {
     "data": {
      "text/plain": [
       "10555"
      ]
     },
     "execution_count": 2,
     "metadata": {},
     "output_type": "execute_result"
    }
   ],
   "source": [
    "f(f(f(10)))"
   ]
  },
  {
   "cell_type": "code",
   "execution_count": 11,
   "id": "100a09e0-66df-40e9-b25a-8abd57c5dbd1",
   "metadata": {},
   "outputs": [],
   "source": [
    "#Функция заданная на интервалах\n",
    "def f(x):\n",
    "    if x <= -2:\n",
    "        return 1 - (x + 2) ** 2\n",
    "    elif x <= 2:\n",
    "        return -x/2\n",
    "    else:\n",
    "        return (x - 2) ** 2 + 1"
   ]
  },
  {
   "cell_type": "code",
   "execution_count": 14,
   "id": "01b2c793-ad45-4efc-8784-ef2e9bf83691",
   "metadata": {},
   "outputs": [
    {
     "name": "stdout",
     "output_type": "stream",
     "text": [
      "-0.5\n"
     ]
    }
   ],
   "source": [
    "print(f(1))"
   ]
  },
  {
   "cell_type": "code",
   "execution_count": null,
   "id": "db29868f-bbc3-47a5-90d6-663b6552f032",
   "metadata": {},
   "outputs": [],
   "source": [
    "#Функция для модификации списка\n",
    "#Напишите функцию modify_list(l), которая принимает на вход список целых чисел, \n",
    "# удаляет из него все нечётные значения, а чётные нацело делит на два. \n",
    "# Функция не должна ничего возвращать, требуется только изменение переданного списка, например:\n",
    "def modify_list(l):\n",
    "    n = len(l)\n",
    "    num_del = []\n",
    "    num_chan = [0]*n\n",
    "    for i in range(n):\n",
    "        if l[i] % 2 == 1:\n",
    "            num_chan[i] = 1\n",
    "            num_del.append(i)\n",
    "    for i in range(n):\n",
    "        if num_chan[i] == 0:\n",
    "            l[i] = int(l[i] / 2)\n",
    "    num_del.reverse()\n",
    "    for i in num_del:\n",
    "        del l[i]"
   ]
  },
  {
   "cell_type": "code",
   "execution_count": 43,
   "id": "1a181417-fa8a-4938-b203-7c65c9acb3b7",
   "metadata": {},
   "outputs": [
    {
     "name": "stdout",
     "output_type": "stream",
     "text": [
      "None\n",
      "[1, 2, 3]\n",
      "[1]\n",
      "[5, 4]\n"
     ]
    }
   ],
   "source": [
    "lst = [1, 2, 3, 4, 5, 6]\n",
    "print(modify_list(lst))\n",
    "print(lst)               # [1, 2, 3]\n",
    "modify_list(lst)\n",
    "print(lst)               # [1]\n",
    "\n",
    "lst = [10, 5, 8, 3]\n",
    "modify_list(lst)\n",
    "print(lst)  "
   ]
  },
  {
   "cell_type": "code",
   "execution_count": null,
   "id": "fd0ef9c3-cb4f-4864-984c-54c5c07de4b4",
   "metadata": {},
   "outputs": [],
   "source": []
  }
 ],
 "metadata": {
  "kernelspec": {
   "display_name": "Python 3 (ipykernel)",
   "language": "python",
   "name": "python3"
  },
  "language_info": {
   "codemirror_mode": {
    "name": "ipython",
    "version": 3
   },
   "file_extension": ".py",
   "mimetype": "text/x-python",
   "name": "python",
   "nbconvert_exporter": "python",
   "pygments_lexer": "ipython3",
   "version": "3.12.4"
  }
 },
 "nbformat": 4,
 "nbformat_minor": 5
}
