{
 "cells": [
  {
   "cell_type": "code",
   "execution_count": 3,
   "id": "2dd0793d",
   "metadata": {},
   "outputs": [
    {
     "name": "stdout",
     "output_type": "stream",
     "text": [
      "31.41592653589793\n"
     ]
    }
   ],
   "source": [
    "import math as m\n",
    "r = float(input())\n",
    "p = 2 * m.pi * r\n",
    "print(p)"
   ]
  },
  {
   "cell_type": "code",
   "execution_count": 4,
   "id": "5295d9ff",
   "metadata": {},
   "outputs": [
    {
     "name": "stdout",
     "output_type": "stream",
     "text": [
      "--f=c:\\Users\\oxyge\\AppData\\Roaming\\jupyter\\runtime\\kernel-v396da94cc52d3f8fae850aeb1002fd7832f653197.json\n"
     ]
    }
   ],
   "source": [
    "import sys\n",
    "print(*sys.argv[1:])"
   ]
  }
 ],
 "metadata": {
  "kernelspec": {
   "display_name": "Python 3",
   "language": "python",
   "name": "python3"
  },
  "language_info": {
   "codemirror_mode": {
    "name": "ipython",
    "version": 3
   },
   "file_extension": ".py",
   "mimetype": "text/x-python",
   "name": "python",
   "nbconvert_exporter": "python",
   "pygments_lexer": "ipython3",
   "version": "3.12.4"
  }
 },
 "nbformat": 4,
 "nbformat_minor": 5
}
