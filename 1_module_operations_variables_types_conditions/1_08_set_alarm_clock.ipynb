{
 "cells": [
  {
   "cell_type": "code",
   "execution_count": 1,
   "id": "a9d36944",
   "metadata": {},
   "outputs": [
    {
     "name": "stdout",
     "output_type": "stream",
     "text": [
      "2085\n"
     ]
    }
   ],
   "source": [
    "#Сколько минут в сутки спит Тимофей\n",
    "#Тимофей обычно спит ночью X часов и устраивает себе днем тихий час на Y минут.\n",
    "# Определите, сколько всего минут Тимофей спит в сутки.\n",
    "X = int(input())\n",
    "Y = int(input())\n",
    "print(X*60 + Y)"
   ]
  },
  {
   "cell_type": "code",
   "execution_count": null,
   "id": "585bc76a",
   "metadata": {},
   "outputs": [],
   "source": [
    "#На какое время завести будильник сдвиг времени\n",
    "#Коля каждый день ложится спать ровно в полночь и недавно узнал,\n",
    "# что оптимальное время для его сна составляет X минут. \n",
    "# Коля хочет поставить себе будильник так, чтобы он прозвенел ровно через X минут после полуночи,\n",
    "# однако для этого необходимо указать время сигнала в формате часы, минуты.\n",
    "# Помогите Коле определить, на какое время завести будильник.\n",
    "X = int(input())\n",
    "h = X // 60\n",
    "m = X - h*60\n",
    "print(h)\n",
    "print(m)"
   ]
  },
  {
   "cell_type": "code",
   "execution_count": null,
   "id": "963191d8",
   "metadata": {},
   "outputs": [
    {
     "name": "stdout",
     "output_type": "stream",
     "text": [
      "Недосып\n"
     ]
    }
   ],
   "source": [
    "#На какое время завести будильник сдвиг времени после полуночи\n",
    "#Катя узнала, что ей для сна надо X минут. В отличие от Коли, \n",
    "# Катя ложится спать после полуночи в H часов и M минут. Помогите Кате определить, \n",
    "# на какое время ей поставить будильник, чтобы он прозвенел ровно через X минут\n",
    "# после того, как она ляжет спать.\n",
    "X = int(input())\n",
    "H = int(input())\n",
    "M = int(input())\n",
    "h = X // 60\n",
    "m = X - h*60\n",
    "dob = (m + M) // 60\n",
    "h_al = h + H + dob\n",
    "m_al = m + M - dob*60\n",
    "print(h_al)\n",
    "print(m_al)"
   ]
  }
 ],
 "metadata": {
  "kernelspec": {
   "display_name": "Python 3",
   "language": "python",
   "name": "python3"
  },
  "language_info": {
   "codemirror_mode": {
    "name": "ipython",
    "version": 3
   },
   "file_extension": ".py",
   "mimetype": "text/x-python",
   "name": "python",
   "nbconvert_exporter": "python",
   "pygments_lexer": "ipython3",
   "version": "3.12.4"
  }
 },
 "nbformat": 4,
 "nbformat_minor": 5
}
